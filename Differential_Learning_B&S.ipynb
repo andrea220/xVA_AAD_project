{
 "cells": [
  {
   "cell_type": "code",
   "execution_count": 9,
   "metadata": {},
   "outputs": [],
   "source": [
    "import numpy as np\n",
    "from scipy.stats import norm\n",
    "import matplotlib.pyplot as plt\n",
    "from sklearn.neural_network import MLPRegressor\n",
    "from sklearn.model_selection import train_test_split\n",
    "from sklearn.metrics import mean_squared_error, r2_score"
   ]
  },
  {
   "cell_type": "markdown",
   "metadata": {},
   "source": [
    "# Black&Scholes helpers"
   ]
  },
  {
   "cell_type": "code",
   "execution_count": 2,
   "metadata": {},
   "outputs": [],
   "source": [
    "def bsPrice(spot, strike, vol, T):\n",
    "    d1 = (np.log(spot/strike) + 0.5 * vol * vol * T) / vol / np.sqrt(T)\n",
    "    d2 = d1 - vol * np.sqrt(T)\n",
    "    return spot * norm.cdf(d1) - strike * norm.cdf(d2)\n",
    "\n",
    "def bsDelta(spot, strike, vol, T):\n",
    "    d1 = (np.log(spot/strike) + 0.5 * vol * vol * T) / vol / np.sqrt(T)\n",
    "    return norm.cdf(d1)\n",
    "\n",
    "def bsVega(spot, strike, vol, T):\n",
    "    d1 = (np.log(spot/strike) + 0.5 * vol * vol * T) / vol / np.sqrt(T)\n",
    "    return spot * np.sqrt(T) * norm.pdf(d1)\n",
    "def brownian(S0, dt, sigma, mu, z):\n",
    "    dt_sqrt = tf.math.sqrt(dt)\n",
    "    shock = sigma * dt_sqrt * z\n",
    "    drift = (mu - (sigma ** 2) / 2)\n",
    "    bm = tf.math.exp(drift * dt + shock)\n",
    "    out = S0 * tf.math.cumprod(bm, axis=1)\n",
    "    return out\n",
    "\n",
    "class BlackScholes:\n",
    "    \n",
    "    def __init__(self, vol = 0.2, T1 = 1, T2 = 2, K = 1.10, volMult = 1):\n",
    "        \n",
    "        self.spot = 1 # S0\n",
    "        self.vol = vol # sigma\n",
    "        self.T1 = T1\n",
    "        self.T2 = T2\n",
    "        self.K = K\n",
    "        self.volMult = volMult\n",
    "    \n",
    "    def trainingSet(self, m, seed = None):\n",
    "        \n",
    "        np.random.seed(seed)\n",
    "        \n",
    "        # 2 sets of normal returns\n",
    "        returns = np.random.normal(size=[m, 2])\n",
    "\n",
    "        # SDE\n",
    "        vol0 = self.vol * self.volMult\n",
    "        R1 = np.exp(-0.5*vol0*vol0*self.T1 + vol0*np.sqrt(self.T1)*returns[:,0])\n",
    "        R2 = np.exp(-0.5*self.vol*self.vol*(self.T2-self.T1) \\\n",
    "                    + self.vol*np.sqrt(self.T2-self.T1)*returns[:,1])\n",
    "        S1 = self.spot * R1\n",
    "        S2 = S1 * R2 \n",
    "\n",
    "        # payoff\n",
    "        pay = np.maximum(0, S2 - self.K)\n",
    "        \n",
    "        X = S1\n",
    "        Y = pay\n",
    "\n",
    "        # pathwise differentials\n",
    "        Z =  np.where(S2 > self.K, R2, 0.0).reshape((-1,1)) \n",
    "        \n",
    "        return X.reshape([-1,1]), Y.reshape([-1,1]), Z.reshape([-1,1])\n",
    "    \n",
    "    def testSet(self, lower=0.35, upper=1.65, num=100, seed=None):\n",
    "        \n",
    "        spots = np.linspace(lower, upper, num).reshape((-1, 1))\n",
    "        # compute prices, deltas and vegas\n",
    "        prices = bsPrice(spots, self.K, self.vol, self.T2 - self.T1).reshape((-1, 1))\n",
    "        deltas = bsDelta(spots, self.K, self.vol, self.T2 - self.T1).reshape((-1, 1))\n",
    "        vegas = bsVega(spots, self.K, self.vol, self.T2 - self.T1).reshape((-1, 1))\n",
    "        return spots, spots, prices, deltas, vegas  "
   ]
  },
  {
   "cell_type": "code",
   "execution_count": 7,
   "metadata": {},
   "outputs": [],
   "source": [
    "generator = BlackScholes()\n",
    "nPath = 10000\n",
    "simulSeed = 1212\n",
    "nTest = 100"
   ]
  },
  {
   "cell_type": "code",
   "execution_count": 24,
   "metadata": {},
   "outputs": [
    {
     "name": "stdout",
     "output_type": "stream",
     "text": [
      "simulating training, valid and test sets\n",
      "done\n"
     ]
    }
   ],
   "source": [
    "print(\"simulating training, valid and test sets\")\n",
    "xTrain, yTrain, dydxTrain = generator.trainingSet(nPath, seed=simulSeed)\n",
    "# xTrain = S(T1) --> Array con tutti i punti Montecarlo corrispondenti al timestep T1 \n",
    "# per l'unico risk factor S\n",
    "# yTrain --> è il payoff(T2) = S(T2) - K\n",
    "# dydxTrain --> sensitivity al risk factor S(T1) = Delta(S(T1))\n",
    "yTrain_differential = np.array([yTrain[:,0], dydxTrain[:,0]]).T\n",
    "\n",
    "# TEST SET\n",
    "xTest, xAxis, yTest, dydxTest, vegas = generator.testSet(num=nTest, seed= None)\n",
    "# xTest = xAxis --> vettore di spot al tempo T1, S(T1)\n",
    "# yTest --> vettore di prezzi esatti in T1 con input S(T1)\n",
    "# dydxTest --> vettore di Delta esatti in T1 con input S(T1)\n",
    "print(\"done\")"
   ]
  },
  {
   "cell_type": "markdown",
   "metadata": {},
   "source": [
    "#### ANN setup"
   ]
  },
  {
   "cell_type": "code",
   "execution_count": 32,
   "metadata": {},
   "outputs": [],
   "source": [
    "mlp = MLPRegressor(hidden_layer_sizes=(100,100,100,100), \n",
    "                   solver='adam', shuffle = False, batch_size=64, verbose=True,\n",
    "                   max_iter= 20\n",
    "                    )\n",
    "mlp_differential = MLPRegressor(hidden_layer_sizes=(100,100,100,100), \n",
    "                   solver='adam', shuffle = False, batch_size=64, verbose=True,\n",
    "                   max_iter= 20\n",
    "                    )"
   ]
  },
  {
   "cell_type": "code",
   "execution_count": 33,
   "metadata": {},
   "outputs": [
    {
     "name": "stdout",
     "output_type": "stream",
     "text": [
      "Iteration 1, loss = 0.00986203\n",
      "Iteration 2, loss = 0.00901568\n",
      "Iteration 3, loss = 0.00906981\n",
      "Iteration 4, loss = 0.00902979\n",
      "Iteration 5, loss = 0.00904797\n",
      "Iteration 6, loss = 0.00908133\n",
      "Iteration 7, loss = 0.00893452\n",
      "Iteration 8, loss = 0.00886374\n",
      "Iteration 9, loss = 0.00887542\n",
      "Iteration 10, loss = 0.00888230\n",
      "Iteration 11, loss = 0.00895138\n",
      "Iteration 12, loss = 0.00887931\n",
      "Iteration 13, loss = 0.00891458\n",
      "Training loss did not improve more than tol=0.000100 for 10 consecutive epochs. Stopping.\n"
     ]
    },
    {
     "data": {
      "text/plain": [
       "MLPRegressor(activation='relu', alpha=0.0001, batch_size=64, beta_1=0.9,\n",
       "       beta_2=0.999, early_stopping=False, epsilon=1e-08,\n",
       "       hidden_layer_sizes=(100, 100, 100, 100), learning_rate='constant',\n",
       "       learning_rate_init=0.001, max_iter=20, momentum=0.9,\n",
       "       n_iter_no_change=10, nesterovs_momentum=True, power_t=0.5,\n",
       "       random_state=None, shuffle=False, solver='adam', tol=0.0001,\n",
       "       validation_fraction=0.1, verbose=True, warm_start=False)"
      ]
     },
     "execution_count": 33,
     "metadata": {},
     "output_type": "execute_result"
    }
   ],
   "source": [
    "mlp.fit(xTrain, yTrain[:,0])"
   ]
  },
  {
   "cell_type": "code",
   "execution_count": 34,
   "metadata": {},
   "outputs": [
    {
     "name": "stdout",
     "output_type": "stream",
     "text": [
      "Iteration 1, loss = 0.06727010\n",
      "Iteration 2, loss = 0.06197047\n",
      "Iteration 3, loss = 0.06212399\n",
      "Iteration 4, loss = 0.06245124\n",
      "Iteration 5, loss = 0.06151555\n",
      "Iteration 6, loss = 0.06194831\n",
      "Iteration 7, loss = 0.06163430\n",
      "Iteration 8, loss = 0.06181783\n",
      "Iteration 9, loss = 0.06170139\n",
      "Iteration 10, loss = 0.06163220\n",
      "Iteration 11, loss = 0.06163214\n",
      "Iteration 12, loss = 0.06153937\n",
      "Iteration 13, loss = 0.06175609\n",
      "Iteration 14, loss = 0.06161404\n",
      "Iteration 15, loss = 0.06200125\n",
      "Iteration 16, loss = 0.06166870\n",
      "Training loss did not improve more than tol=0.000100 for 10 consecutive epochs. Stopping.\n"
     ]
    },
    {
     "data": {
      "text/plain": [
       "MLPRegressor(activation='relu', alpha=0.0001, batch_size=64, beta_1=0.9,\n",
       "       beta_2=0.999, early_stopping=False, epsilon=1e-08,\n",
       "       hidden_layer_sizes=(100, 100, 100, 100), learning_rate='constant',\n",
       "       learning_rate_init=0.001, max_iter=20, momentum=0.9,\n",
       "       n_iter_no_change=10, nesterovs_momentum=True, power_t=0.5,\n",
       "       random_state=None, shuffle=False, solver='adam', tol=0.0001,\n",
       "       validation_fraction=0.1, verbose=True, warm_start=False)"
      ]
     },
     "execution_count": 34,
     "metadata": {},
     "output_type": "execute_result"
    }
   ],
   "source": [
    "mlp_differential.fit(xTrain, yTrain_differential)"
   ]
  },
  {
   "cell_type": "code",
   "execution_count": 35,
   "metadata": {},
   "outputs": [],
   "source": [
    "predictions = mlp.predict(xTest)\n",
    "predictions_diff = mlp_differential.predict(xTest);"
   ]
  },
  {
   "cell_type": "code",
   "execution_count": 43,
   "metadata": {},
   "outputs": [
    {
     "data": {
      "text/plain": [
       "Text(0.5, 1.0, 'Price differential ML')"
      ]
     },
     "execution_count": 43,
     "metadata": {},
     "output_type": "execute_result"
    },
    {
     "data": {
      "image/png": "[encoded data removed]",
      "text/plain": [
       "<Figure size 1296x432 with 2 Axes>"
      ]
     },
     "metadata": {
      "needs_background": "light"
     },
     "output_type": "display_data"
    }
   ],
   "source": [
    "fig, ax = plt.subplots(1,2,figsize=(18,6))\n",
    "ax[0].plot(xAxis*100, predictions*100, 'co', \\\n",
    "                       markersize=2, markerfacecolor='white', label=\"predicted\")\n",
    "ax[1].plot(xAxis*100, predictions_diff[:,0]*100, 'co', \\\n",
    "                       markersize=2, markerfacecolor='white', label=\"predicted\")\n",
    "ax[0].plot(xAxis*100, yTest*100, 'r.', markersize=1, label='targets')\n",
    "ax[1].plot(xAxis*100, yTest*100, 'r.', markersize=1, label='targets')\n",
    "ax[0].legend(prop={'size': 8}, loc='upper left')\n",
    "ax[1].legend(prop={'size': 8}, loc='upper left')\n",
    "ax[0].set_title(\"Price standard ML\") \n",
    "ax[1].set_title(\"Price differential ML\")"
   ]
  },
  {
   "cell_type": "code",
   "execution_count": 53,
   "metadata": {},
   "outputs": [
    {
     "data": {
      "text/plain": [
       "Text(0.5, 1.0, 'Delta differential ML')"
      ]
     },
     "execution_count": 53,
     "metadata": {},
     "output_type": "execute_result"
    },
    {
     "data": {
      "image/png": "[encoded data removed]",
      "text/plain": [
       "<Figure size 576x288 with 1 Axes>"
      ]
     },
     "metadata": {
      "needs_background": "light"
     },
     "output_type": "display_data"
    }
   ],
   "source": [
    "fig, ax = plt.subplots(figsize=(8,4))\n",
    "ax.plot(xAxis*100, predictions_diff[:,1]*100, 'co', \\\n",
    "                       markersize=2, markerfacecolor='white', label=\"predicted\")\n",
    "ax.plot(xAxis*100, dydxTest*100, 'r.', markersize=1, label='targets')\n",
    "ax.legend(prop={'size': 8}, loc='upper left')\n",
    "ax.set_title(\"Delta differential ML\")"
   ]
  },
  {
   "cell_type": "code",
   "execution_count": null,
   "metadata": {},
   "outputs": [],
   "source": []
  }
 ],
 "metadata": {
  "kernelspec": {
   "display_name": "Python 3",
   "language": "python",
   "name": "python3"
  },
  "language_info": {
   "codemirror_mode": {
    "name": "ipython",
    "version": 3
   },
   "file_extension": ".py",
   "mimetype": "text/x-python",
   "name": "python",
   "nbconvert_exporter": "python",
   "pygments_lexer": "ipython3",
   "version": "3.7.3"
  }
 },
 "nbformat": 4,
 "nbformat_minor": 2
}
