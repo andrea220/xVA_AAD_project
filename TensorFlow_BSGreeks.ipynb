{
 "cells": [
  {
   "cell_type": "code",
   "execution_count": 1,
   "metadata": {},
   "outputs": [],
   "source": [
    "import numpy as np\n",
    "import tensorflow as tf\n",
    "import tensorflow_probability as tfp\n",
    "from scipy.stats import norm\n",
    "import matplotlib.pyplot as plt"
   ]
  },
  {
   "cell_type": "code",
   "execution_count": 2,
   "metadata": {},
   "outputs": [],
   "source": [
    "def blackScholes_py(S_0, strike, time_to_expiry, implied_vol, riskfree_rate):\n",
    "    S = S_0\n",
    "    K = strike\n",
    "    dt = time_to_expiry\n",
    "    sigma = implied_vol\n",
    "    r = riskfree_rate\n",
    "    Phi = norm.cdf\n",
    "    d_1 = (np.log(S_0 / K) + (r+sigma**2/2)*dt) / (sigma*np.sqrt(dt))\n",
    "    d_2 = d_1 - sigma*np.sqrt(dt)\n",
    "    value =  S*Phi(d_1) - K*np.exp(-r*dt)*Phi(d_2)\n",
    "    return value"
   ]
  },
  {
   "cell_type": "code",
   "execution_count": 3,
   "metadata": {},
   "outputs": [
    {
     "data": {
      "text/plain": [
       "9.73983632580859"
      ]
     },
     "execution_count": 3,
     "metadata": {},
     "output_type": "execute_result"
    }
   ],
   "source": [
    "S_0, strike, time_to_expiry, implied_vol, riskfree_rate = 100., 110., 2., 0.2, 0.03\n",
    "blackScholes_py(S_0, strike, time_to_expiry, implied_vol, riskfree_rate)"
   ]
  },
  {
   "cell_type": "markdown",
   "metadata": {},
   "source": [
    "## B&S Exact Greeks with TensorFlow"
   ]
  },
  {
   "cell_type": "code",
   "execution_count": 4,
   "metadata": {},
   "outputs": [],
   "source": [
    "@tf.function\n",
    "def pricer_blackScholes(S0, strike, time_to_expiry, implied_vol, riskfree):\n",
    "    S       = S0\n",
    "    K       = strike\n",
    "    dt      = time_to_expiry\n",
    "    dt_sqrt = tf.sqrt(dt)\n",
    "    sigma   = implied_vol\n",
    "    r       = riskfree\n",
    "    Phi     = tfp.distributions.Normal(0., 1.).cdf\n",
    "    \n",
    "    d1 = (tf.math.log(S / K) + (r + sigma ** 2 / 2) * dt) / (sigma * dt_sqrt)\n",
    "    d2 = d1 - sigma * dt_sqrt\n",
    "\n",
    "    npv =  S * Phi(d1) - K * tf.exp(-r * dt) * Phi(d2)\n",
    "    return npv"
   ]
  },
  {
   "cell_type": "code",
   "execution_count": 5,
   "metadata": {},
   "outputs": [
    {
     "data": {
      "text/plain": [
       "<tf.Tensor: shape=(), dtype=float32, numpy=9.739834>"
      ]
     },
     "execution_count": 5,
     "metadata": {},
     "output_type": "execute_result"
    }
   ],
   "source": [
    "S_0 = tf.Variable(100.)\n",
    "strike = tf.Variable(110.)\n",
    "time_to_expiry = tf.Variable(2.)\n",
    "implied_vol = tf.Variable(0.2)\n",
    "riskfree_rate = tf.Variable(0.03)\n",
    "pricer_blackScholes(S_0,strike, time_to_expiry, implied_vol, riskfree_rate)"
   ]
  },
  {
   "cell_type": "code",
   "execution_count": 6,
   "metadata": {},
   "outputs": [],
   "source": [
    "with tf.GradientTape() as g1:\n",
    "    npv = pricer_blackScholes(S_0,strike, time_to_expiry, implied_vol, riskfree_rate)\n",
    "greeks_exact_tf = g1.gradient(npv, [S_0,implied_vol,time_to_expiry,riskfree_rate]) "
   ]
  },
  {
   "cell_type": "markdown",
   "metadata": {},
   "source": [
    "## Monte Carlo Greeks with TensorFlow"
   ]
  },
  {
   "cell_type": "code",
   "execution_count": 7,
   "metadata": {},
   "outputs": [],
   "source": [
    "@tf.function\n",
    "def brownian(S0, dt, sigma, mu, z):\n",
    "    dt_sqrt = tf.math.sqrt(dt)\n",
    "    shock = sigma * dt_sqrt * z\n",
    "    drift = (mu - (sigma ** 2) / 2)\n",
    "    bm = tf.math.exp(drift * dt + shock)\n",
    "    out = S0 * tf.math.cumprod(bm, axis=1)\n",
    "    return out\n",
    "\n",
    "@tf.function\n",
    "def pricer_montecarlo(S0, strike, time_to_expiry, implied_vol, riskfree, z):\n",
    "    sigma = implied_vol\n",
    "    T = time_to_expiry\n",
    "    r = riskfree\n",
    "    K = strike\n",
    "    dt = T / z.shape[1]\n",
    "    st = brownian(S0, dt, sigma, r, z)\n",
    "    payoff = tf.math.maximum(st[:, -1] - K, 0)\n",
    "    npv = tf.exp(-r * T) * tf.reduce_mean(payoff)\n",
    "    return npv"
   ]
  },
  {
   "cell_type": "code",
   "execution_count": 8,
   "metadata": {},
   "outputs": [
    {
     "data": {
      "text/plain": [
       "<tf.Tensor: shape=(), dtype=float32, numpy=9.786871>"
      ]
     },
     "execution_count": 8,
     "metadata": {},
     "output_type": "execute_result"
    }
   ],
   "source": [
    "nsims = 10000\n",
    "nobs = 100\n",
    "z = tf.random.normal((nsims, nobs), seed=12)\n",
    "npv = pricer_montecarlo(S_0, strike, time_to_expiry, implied_vol, riskfree_rate, z)\n",
    "npv"
   ]
  },
  {
   "cell_type": "code",
   "execution_count": 9,
   "metadata": {},
   "outputs": [],
   "source": [
    "with tf.GradientTape() as g1:\n",
    "    npv = pricer_montecarlo(S_0, strike, time_to_expiry, implied_vol, riskfree_rate, z)\n",
    "greeks_mc_tf = g1.gradient(npv, [S_0, implied_vol,time_to_expiry, riskfree_rate])"
   ]
  },
  {
   "cell_type": "code",
   "execution_count": 10,
   "metadata": {},
   "outputs": [
    {
     "data": {
      "text/plain": [
       "[<tf.Tensor: shape=(), dtype=float32, numpy=0.5066145>,\n",
       " <tf.Tensor: shape=(), dtype=float32, numpy=56.411205>,\n",
       " <tf.Tensor: shape=(), dtype=float32, numpy=4.0482087>,\n",
       " <tf.Tensor: shape=(), dtype=float32, numpy=81.843216>]"
      ]
     },
     "execution_count": 10,
     "metadata": {},
     "output_type": "execute_result"
    }
   ],
   "source": [
    "greeks_exact_tf"
   ]
  },
  {
   "cell_type": "code",
   "execution_count": 11,
   "metadata": {},
   "outputs": [
    {
     "data": {
      "text/plain": [
       "[<tf.Tensor: shape=(), dtype=float32, numpy=0.5079977>,\n",
       " <tf.Tensor: shape=(), dtype=float32, numpy=56.693672>,\n",
       " <tf.Tensor: shape=(), dtype=float32, numpy=4.065071>,\n",
       " <tf.Tensor: shape=(), dtype=float32, numpy=82.0258>]"
      ]
     },
     "execution_count": 11,
     "metadata": {},
     "output_type": "execute_result"
    }
   ],
   "source": [
    "greeks_mc_tf"
   ]
  },
  {
   "cell_type": "code",
   "execution_count": null,
   "metadata": {},
   "outputs": [],
   "source": []
  },
  {
   "cell_type": "code",
   "execution_count": null,
   "metadata": {},
   "outputs": [],
   "source": []
  }
 ],
 "metadata": {
  "kernelspec": {
   "display_name": "Python 3",
   "language": "python",
   "name": "python3"
  },
  "language_info": {
   "codemirror_mode": {
    "name": "ipython",
    "version": 3
   },
   "file_extension": ".py",
   "mimetype": "text/x-python",
   "name": "python",
   "nbconvert_exporter": "python",
   "pygments_lexer": "ipython3",
   "version": "3.7.3"
  }
 },
 "nbformat": 4,
 "nbformat_minor": 2
}
