{
 "cells": [
  {
   "cell_type": "code",
   "execution_count": 1,
   "id": "7d1adc8d",
   "metadata": {},
   "outputs": [],
   "source": [
    "import numpy as np\n",
    "from scipy.stats import norm\n",
    "import matplotlib.pyplot as plt\n",
    "import time"
   ]
  },
  {
   "cell_type": "code",
   "execution_count": 2,
   "id": "cb35ce5f",
   "metadata": {},
   "outputs": [],
   "source": [
    "# helper analytics    \n",
    "def bsPrice(spot, strike, vol, T):\n",
    "    d1 = (np.log(spot/strike) + 0.5 * vol * vol * T) / vol / np.sqrt(T)\n",
    "    d2 = d1 - vol * np.sqrt(T)\n",
    "    return spot * norm.cdf(d1) - strike * norm.cdf(d2)\n",
    "\n",
    "def bsDelta(spot, strike, vol, T):\n",
    "    d1 = (np.log(spot/strike) + 0.5 * vol * vol * T) / vol / np.sqrt(T)\n",
    "    return norm.cdf(d1)\n",
    "\n",
    "def bsVega(spot, strike, vol, T):\n",
    "    d1 = (np.log(spot/strike) + 0.5 * vol * vol * T) / vol / np.sqrt(T)\n",
    "    return spot * np.sqrt(T) * norm.pdf(d1)\n",
    "#"
   ]
  },
  {
   "cell_type": "code",
   "execution_count": null,
   "id": "709d6df4",
   "metadata": {},
   "outputs": [],
   "source": [
    "def brownian(S0, dt, sigma, mu, z):\n",
    "    dt_sqrt = tf.math.sqrt(dt)\n",
    "    shock = sigma * dt_sqrt * z\n",
    "    drift = (mu - (sigma ** 2) / 2)\n",
    "    bm = tf.math.exp(drift * dt + shock)\n",
    "    out = S0 * tf.math.cumprod(bm, axis=1)\n",
    "    return out"
   ]
  },
  {
   "cell_type": "code",
   "execution_count": 47,
   "id": "8c75bde0",
   "metadata": {},
   "outputs": [],
   "source": [
    "class BlackScholes:\n",
    "    \n",
    "    def __init__(self, vol = 0.2, T1 = 1, T2 = 2, K = 1.10, volMult = 1):\n",
    "        \n",
    "        self.spot = 1 # S0\n",
    "        self.vol = vol # sigma\n",
    "        self.T1 = T1\n",
    "        self.T2 = T2\n",
    "        self.K = K\n",
    "        self.volMult = volMult\n",
    "    \n",
    "    def trainingSet(self, m, seed = None):\n",
    "        \n",
    "        np.random.seed(seed)\n",
    "        \n",
    "        # 2 sets of normal returns\n",
    "        returns = np.random.normal(size=[m, 2])\n",
    "\n",
    "        # SDE\n",
    "        vol0 = self.vol * self.volMult\n",
    "        R1 = np.exp(-0.5*vol0*vol0*self.T1 + vol0*np.sqrt(self.T1)*returns[:,0])\n",
    "        R2 = np.exp(-0.5*self.vol*self.vol*(self.T2-self.T1) \\\n",
    "                    + self.vol*np.sqrt(self.T2-self.T1)*returns[:,1])\n",
    "        S1 = self.spot * R1\n",
    "        S2 = S1 * R2 \n",
    "\n",
    "        # payoff\n",
    "        pay = np.maximum(0, S2 - self.K)\n",
    "        \n",
    "        X = S1\n",
    "        Y = pay\n",
    "\n",
    "        # differentials\n",
    "        Z =  np.where(S2 > self.K, R2, 0.0).reshape((-1,1)) \n",
    "        \n",
    "        return X.reshape([-1,1]), Y.reshape([-1,1]), Z.reshape([-1,1])\n",
    "    \n",
    "    def testSet(self, lower=0.35, upper=1.65, num=100, seed=None):\n",
    "        \n",
    "        spots = np.linspace(lower, upper, num).reshape((-1, 1))\n",
    "        # compute prices, deltas and vegas\n",
    "        prices = bsPrice(spots, self.K, self.vol, self.T2 - self.T1).reshape((-1, 1))\n",
    "        deltas = bsDelta(spots, self.K, self.vol, self.T2 - self.T1).reshape((-1, 1))\n",
    "        vegas = bsVega(spots, self.K, self.vol, self.T2 - self.T1).reshape((-1, 1))\n",
    "        return spots, spots, prices, deltas, vegas   "
   ]
  },
  {
   "cell_type": "code",
   "execution_count": 48,
   "id": "39cbea73",
   "metadata": {},
   "outputs": [],
   "source": [
    "bs = BlackScholes()"
   ]
  },
  {
   "cell_type": "code",
   "execution_count": 49,
   "id": "e7e4e459",
   "metadata": {},
   "outputs": [],
   "source": [
    "x,y,z = bs.trainingSet(1000, 1234) \n",
    "# x = S(T-1)\n",
    "# y = payoff(T)\n",
    "# z = Delta(S(T-1))\n",
    "xTest, xAxis, yTest, dydxTest, vegas = bs.testSet(num=100, seed=1234)"
   ]
  },
  {
   "cell_type": "code",
   "execution_count": null,
   "id": "7edbc023",
   "metadata": {},
   "outputs": [],
   "source": []
  },
  {
   "cell_type": "code",
   "execution_count": null,
   "id": "0e86ecf3",
   "metadata": {},
   "outputs": [],
   "source": []
  },
  {
   "cell_type": "code",
   "execution_count": null,
   "id": "9413c04d",
   "metadata": {},
   "outputs": [],
   "source": []
  }
 ],
 "metadata": {
  "kernelspec": {
   "display_name": "Python 3 (ipykernel)",
   "language": "python",
   "name": "python3"
  },
  "language_info": {
   "codemirror_mode": {
    "name": "ipython",
    "version": 3
   },
   "file_extension": ".py",
   "mimetype": "text/x-python",
   "name": "python",
   "nbconvert_exporter": "python",
   "pygments_lexer": "ipython3",
   "version": "3.9.7"
  }
 },
 "nbformat": 4,
 "nbformat_minor": 5
}
